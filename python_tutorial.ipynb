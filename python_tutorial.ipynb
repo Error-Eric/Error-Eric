{
 "cells": [
  {
   "attachments": {},
   "cell_type": "markdown",
   "metadata": {},
   "source": [
    "# 第二讲 Python 概述和基础\n",
    "---\n",
    "\n",
    "<!-- 安装 python，创建、执行 python 文件，利用 pip 工具安装\n",
    "python 的库。\n",
    "安装 pycharm，配置 pycharm。python 的基本语法，如循环、判\n",
    "断控制语句， python 的基本数据结构的概念，如整数、浮点数、字\n",
    "符串、列表 python 的基础操作，如文件的读入、写出、显示。 -->\n",
    "\n",
    "\n",
    "## Python 简介\n",
    "\n",
    "Python 是一个高层次的结合了解释性、编译性、互动性和面向对象的脚本语言。\n",
    "\n",
    "Python 的设计具有很强的可读性，相比其他语言经常使用英文关键字，其他语言的一些标点符号，它具有比其他语言更有特色语法结构。\n",
    "\n",
    "- **Python 是一种解释型语言：** 这意味着开发过程中没有了编译这个环节。类似于PHP和Perl语言。\n",
    "\n",
    "- **Python 是交互式语言：** 这意味着，您可以在一个 Python 提示符 >>> 后直接执行代码。\n",
    "\n",
    "- **Python 是面向对象语言:** 这意味着Python支持面向对象的风格或代码封装在对象的编程技术。\n",
    "\n",
    "- **Python 是初学者的语言：**Python 对初级程序员而言，是一种伟大的语言，它支持广泛的应用程序开发，从简单的文字处理到 WWW 浏览器再到游戏。\n",
    "\n",
    "### Python 发展历史\n",
    "> Python 是由 Guido van Rossum 在八十年代末和九十年代初，在荷兰国家数学和计算机科学研究所设计出来的。\n",
    ">\n",
    "> Python 本身也是由诸多其他语言发展而来的这包括 ABC、Modula-3、C、C++、Algol-68、SmallTalk、Unix shell 和其他的脚本语言等等。\n",
    "> \n",
    ">像 Perl 语言一样，Python 源代码同样遵循 GPL(GNU General Public License)协议。\n",
    "> \n",
    "> 现在 Python 是由一个核心开发团队在维护，Guido van Rossum 仍然占据着至关重要的作用，指导其进展。\n",
    "\n",
    "### Python 特点\n",
    "1.  **易于学习：** Python有相对较少的关键字，结构简单，和一个明确定义的语法，学习起来更加简单。\n",
    "\n",
    "2. **易于阅读：** Python代码定义的更清晰。\n",
    "\n",
    "3. **易于维护：** Python的成功在于它的源代码是相当容易维护的。\n",
    "\n",
    "4. **一个广泛的标准库：** Python的最大的优势之一是丰富的库，跨平台的，在UNIX，Windows和Macintosh兼容很好。\n",
    "\n",
    "5. **互动模式：** 互动模式的支持，您可以从终端输入执行代码并获得结果的语言，互动的测试和调试代码片断。\n",
    "\n",
    "6. **可移植：** 基于其开放源代码的特性，Python已经被移植（也就是使其工作）到许多平台。\n",
    "\n",
    "7. **可扩展：** 如果你需要一段运行很快的关键代码，或者是想要编写一些不愿开放的算法，你可以使用C或C++完成那部分程序，然后从你的Python程序中调用。\n",
    "\n",
    "8. **数据库：** Python提供所有主要的商业数据库的接口。\n",
    "\n",
    "9. **GUI编程：** Python支持GUI可以创建和移植到许多系统调用。\n",
    "\n",
    "10. **可嵌入:** 你可以将Python嵌入到C/C++程序，让你的程序的用户获得\"脚本化\"的能力。\n",
    "\n",
    "## Python 环境搭建\n",
    "Python可应用于多平台包括 Linux 和 Mac OS X。\n",
    "\n",
    "你可以通过终端窗口输入 \"python\" 命令来查看本地是否已经安装Python以及Python的安装版本。\n",
    "\n",
    "### Python下载 \n",
    "\n",
    "安装时一定要勾选`Add to PATH`选项\n",
    "\n",
    "\n",
    "> **anaconda（推荐）：**\n",
    "> \n",
    "> Anaconda 就是可以便捷获取包且对包能够进行管理，同时对环境可以统一管理的发行版本。Anaconda包含了conda、Python在内的超过180个科学包及其依赖项。\n",
    "> \n",
    "> anaconda官网： https://www.anaconda.com/\n",
    "> \n",
    "\n",
    "### 编译器下载\n",
    "\n",
    "\n",
    "\n",
    "> **编译器：VSCode**\n",
    "> \n",
    "> VSCode（全称：Visual Studio Code）是一款由微软开发且跨平台的免费源代码编辑器。Visual Studio Code 默认支持非常多的编程语言，包括 JavaScript、TypeScript、CSS 和 HTML；也可以通过下载扩展支持 Python、C/C++、Java 和 Go 在内的其他语言。\n",
    "> \n",
    "> VSCode 功能 : 该软件支持语法高亮、代码自动补全（又称 IntelliSense）、代码重构、查看定义功能，也可以通过内置的扩展程序商店安装扩展以拓展软件功能。\n",
    "> \n",
    "> VScode 官网地址：https://code.visualstudio.com/\n"
   ]
  },
  {
   "attachments": {},
   "cell_type": "markdown",
   "metadata": {},
   "source": [
    "## Pyhton 基础语法\n",
    "\n",
    "### 第一个Python程序\n",
    "\n",
    "python的编程有两种模式：**交互式编程** 和 **脚本式编程**\n",
    "\n",
    "#### 交互式编程\n",
    "\n",
    "交互式编程**不需要创建脚本文件**，是通过 Python 解释器的交互模式进来编写代码。\n",
    "\n",
    "linux上你只需要在命令行中输入 Python 命令即可启动交互式编程提示窗口如下：\n",
    "\n",
    "``` python\n",
    "Python 3.9.13 (main Aug 25 2022 23:51:50) [MSC v.1916 64 bit (AMD64)] :: Anaconda Inc. on win32\n",
    "\n",
    "Warning:\n",
    "This Python interpreter is in a conda environment but the environment has\n",
    "not been activated.  Libraries may fail to load.  To activate this environment\n",
    "please see https://conda.io/activation\n",
    "\n",
    "Type \"help\" \"copyright\" \"credits\" or \"license\" for more information.\n",
    ">>>\n",
    "```\n",
    "\n",
    "在 python 提示符中输入以下文本信息，然后按 Enter 键查看运行效果：\n",
    "\n",
    "```python\n",
    ">>> print (\"Hello Python!\")\n",
    "```\n",
    "\n",
    "在 Python 3.9.13 版本中以上实例输出结果如下：\n",
    "\n",
    "``` python\n",
    "Hello Python!\n",
    "```\n",
    "    \n",
    "\n",
    "#### 交互式编程\n",
    "\n",
    "通过脚本参数调用解释器开始执行脚本，直到脚本执行完毕。当脚本执行完成后，解释器不再有效。\n",
    "\n",
    "让我们写一个简单的 Python 脚本程序。所有 Python 文件将以 .py 为扩展名。将以下的源代码拷贝至 `test.py` 文件中。\n",
    "\n",
    "``` python\n",
    "print (\"Hello Python!\")\n",
    "```\n",
    "\n",
    "运行后，输出结果：\n",
    "\n",
    "```python\n",
    "Hello Python!\n",
    "```"
   ]
  },
  {
   "cell_type": "code",
   "execution_count": 1,
   "metadata": {},
   "outputs": [
    {
     "name": "stdout",
     "output_type": "stream",
     "text": [
      "Hello Python!\n"
     ]
    }
   ],
   "source": [
    "print (\"Hello Python!\")"
   ]
  },
  {
   "attachments": {},
   "cell_type": "markdown",
   "metadata": {},
   "source": [
    "### Python 保留字符\n",
    "下面的列表显示了在Python中的保留字。这些保留字不能用作常数或变数，或任何其他标识符名称。\n",
    "\n",
    "所有 Python 的关键字只包含小写字母。\n",
    "\n",
    "\n",
    "|  |   |   |\n",
    "| :---: | :---: | :---: |\n",
    "| False |  None  | True |\n",
    "| and  | as  | assert  |\n",
    "| break |  class |  continue |\n",
    "|  def | del | elif |\n",
    "| else |  except | finally |\n",
    "|  for |  from |  global |\n",
    "|  if | import |  in |\n",
    "|  is |  lambda | nonlocal |\n",
    "|  not |  or |  pass |\n",
    "|  raise |  return |  try |\n",
    "|  while |  with |  yield |\n",
    "\n",
    "\n",
    "### 行和缩进\n",
    "\n",
    "学习 Python 与其他语言最大的区别就是，Python 的代码块不使用大括号 {} 来控制类，函数以及其他逻辑判断。python 最具特色的就是用缩进来写模块。\n",
    "\n",
    "缩进的空白数量是可变的，但是所有代码块语句必须包含相同的缩进空白数量，这个必须严格执行。\n",
    "\n",
    "以下实例缩进为四个空格:\n",
    "\n",
    "***实例***\n",
    "```python\n",
    "if True:\n",
    "    print (\"True\")\n",
    "else:\n",
    "    print (\"False\")\n",
    "```\n",
    "\n",
    "以下代码将会执行错误：\n",
    "\n",
    "```python\n",
    "if True:\n",
    "    print (\"Answer\")\n",
    "    print (\"True\")\n",
    "else:\n",
    "    print (\"Answer\")\n",
    "    # 没有严格缩进，在执行时会报错\n",
    "  print (\"False\")\n",
    "```\n"
   ]
  },
  {
   "cell_type": "code",
   "execution_count": 2,
   "metadata": {},
   "outputs": [
    {
     "name": "stdout",
     "output_type": "stream",
     "text": [
      "True\n"
     ]
    }
   ],
   "source": [
    "if True:\n",
    "    print (\"True\")\n",
    "else:\n",
    "    print (\"False\")"
   ]
  },
  {
   "cell_type": "code",
   "execution_count": 4,
   "metadata": {},
   "outputs": [
    {
     "ename": "IndentationError",
     "evalue": "unindent does not match any outer indentation level (<tokenize>, line 7)",
     "output_type": "error",
     "traceback": [
      "\u001b[1;36m  File \u001b[1;32m<tokenize>:7\u001b[1;36m\u001b[0m\n\u001b[1;33m    print (\"False\")\u001b[0m\n\u001b[1;37m    ^\u001b[0m\n\u001b[1;31mIndentationError\u001b[0m\u001b[1;31m:\u001b[0m unindent does not match any outer indentation level\n"
     ]
    }
   ],
   "source": [
    "if True:\n",
    "    print (\"Answer\")\n",
    "    print (\"True\")\n",
    "else:\n",
    "    print (\"Answer\")\n",
    "    # 没有严格缩进，在执行时会报错\n",
    "  print (\"False\")"
   ]
  },
  {
   "attachments": {},
   "cell_type": "markdown",
   "metadata": {},
   "source": [
    "### Python注释\n",
    "python中单行注释采用 # 开头。\n",
    "\n",
    "```python\n",
    "#!/usr/bin/python\n",
    "# -*- coding: UTF-8 -*-\n",
    "# 文件名：test.py\n",
    "\n",
    "# 第一个注释\n",
    "print (\"Hello Python!\")  # 第二个注释\n",
    "```\n",
    "\n",
    "输出结果：\n",
    "```\n",
    "Hello Python!\n",
    "```\n",
    "注释可以在语句或表达式行末：\n",
    "```python\n",
    "name = \"Runoob\" # 这里的内容是一个注释\n",
    "```\n",
    "\n",
    "python 中多行注释使用三个单引号     或三个双引号 \"\"\"。\n",
    "\n",
    "```python\n",
    "#!/usr/bin/python\n",
    "# -*- coding: UTF-8 -*-\n",
    "# 文件名：test.py\n",
    "\n",
    "\n",
    "   \n",
    "这是多行注释，使用单引号。\n",
    "这是多行注释，使用单引号。\n",
    "这是多行注释，使用单引号。\n",
    "   \n",
    "\n",
    "\"\"\"\n",
    "这是多行注释，使用双引号。\n",
    "这是多行注释，使用双引号。\n",
    "这是多行注释，使用双引号。\n",
    "\"\"\"\n",
    "```"
   ]
  },
  {
   "cell_type": "code",
   "execution_count": 5,
   "metadata": {},
   "outputs": [
    {
     "name": "stdout",
     "output_type": "stream",
     "text": [
      "Hello Python!\n"
     ]
    }
   ],
   "source": [
    "#!/usr/bin/python\n",
    "# -*- coding: UTF-8 -*-\n",
    "# 文件名：test.py\n",
    "\n",
    "# 第一个注释\n",
    "print (\"Hello Python!\")  # 第二个注释"
   ]
  },
  {
   "cell_type": "code",
   "execution_count": 6,
   "metadata": {},
   "outputs": [],
   "source": [
    "name = \"Runoob\" # 这里的内容是一个注释"
   ]
  },
  {
   "cell_type": "code",
   "execution_count": 8,
   "metadata": {},
   "outputs": [
    {
     "data": {
      "text/plain": [
       "'\\n这是多行注释，使用双引号。\\n这是多行注释，使用双引号。\\n这是多行注释，使用双引号。\\n'"
      ]
     },
     "execution_count": 8,
     "metadata": {},
     "output_type": "execute_result"
    }
   ],
   "source": [
    "#!/usr/bin/python\n",
    "# -*- coding: UTF-8 -*-\n",
    "# 文件名：test.py\n",
    "\n",
    "'''\n",
    "这是多行注释，使用单引号。\n",
    "这是多行注释，使用单引号。\n",
    "这是多行注释，使用单引号。\n",
    "'''\n",
    "\n",
    "\"\"\"\n",
    "这是多行注释，使用双引号。\n",
    "这是多行注释，使用双引号。\n",
    "这是多行注释，使用双引号。\n",
    "\"\"\""
   ]
  },
  {
   "attachments": {},
   "cell_type": "markdown",
   "metadata": {},
   "source": [
    "## Pyhton 基本数据类型\n",
    "\n",
    "变量是存储在内存中的值，这就意味着在创建变量时会在内存中开辟一个空间。\n",
    "\n",
    "基于变量的数据类型，解释器会分配指定内存，并决定什么数据可以被存储在内存中。\n",
    "\n",
    "因此，变量可以指定不同的数据类型，这些变量可以存储整数，小数或字符。\n",
    "\n",
    "\n",
    "\n",
    "### 变量赋值\n",
    "\n",
    "Python 中的变量赋值不需要类型声明。\n",
    "\n",
    "每个变量在内存中创建，都包括变量的标识，名称和数据这些信息。\n",
    "\n",
    "每个变量在使用前都必须赋值，变量赋值以后该变量才会被创建。\n",
    "\n",
    "等号 `=` 用来给变量赋值。\n",
    "\n",
    "等号 `=` 运算符左边是一个变量名，等号 `=` 运算符右边是存储在变量中的值。例如：\n",
    "```python\n",
    "#!/usr/bin/python\n",
    "# -*- coding: UTF-8 -*-\n",
    " \n",
    "counter = 100 # 赋值整型变量\n",
    "miles = 1000.0 # 浮点型\n",
    "name = \"John\" # 字符串\n",
    " \n",
    "print (counter)\n",
    "print (miles)\n",
    "print (name)\n",
    "```\n",
    "以上实例中，`100`，`1000.0`和`\"John\"`分别赋值给`counter`，`miles`，`name`变量。\n",
    "\n",
    "执行以上程序会输出如下结果：\n",
    "```\n",
    "100\n",
    "1000.0\n",
    "John\n",
    "```"
   ]
  },
  {
   "cell_type": "code",
   "execution_count": 9,
   "metadata": {},
   "outputs": [
    {
     "name": "stdout",
     "output_type": "stream",
     "text": [
      "100\n",
      "1000.0\n",
      "John\n"
     ]
    }
   ],
   "source": [
    "#!/usr/bin/python\n",
    "# -*- coding: UTF-8 -*-\n",
    " \n",
    "counter = 100 # 赋值整型变量\n",
    "miles = 1000.0 # 浮点型\n",
    "name = \"John\" # 字符串\n",
    " \n",
    "print (counter)\n",
    "print (miles)\n",
    "print (name)"
   ]
  },
  {
   "attachments": {},
   "cell_type": "markdown",
   "metadata": {},
   "source": [
    "### 变量数据类型\n",
    "\n",
    "Python3 中有六个标准的数据类型：\n",
    "\n",
    "- Number（数字）\n",
    "    > Python3 支持 int、float、bool、complex（复数）\n",
    "    >像大多数语言一样，数值类型的赋值和计算都是很直观的。\n",
    "    >内置的 `type()` 函数可以用来查询变量所指的对象类型。\n",
    "    >    ```python\n",
    "    >    >>> a, b, c, d = 20, 5.5, True, 4+3j\n",
    "    >    >>> print(type(a), type(b), type(c), type(d))\n",
    "    >   <class 'int'> <class 'float'> <class >'bool'> <class 'complex'>\n",
    "    >    ```\n",
    "    > **数值类型实例**\n",
    "    > |int|float|complex|bool|\n",
    "    > | :- |:-|:-|:-|\n",
    "    > |10|0.0|3.14j| True\n",
    "    > |100|\t15.20|\t45.j| False\n",
    "    > |-786|\t-21.9|\t9.322e-36j|\n",
    "    > |080|\t32.3e+18|\t.876j|\n",
    "    > |-0490|\t-90.|\t-.6545+0J|\n",
    "    > |-0x260|\t-32.54e100|\t3e+26J|\n",
    "    > |0x69|\t70.2E-12|\t4.53e-7j|\n",
    "    > \n",
    "    > *Python 还支持复数，复数由实数部分和虚数部分构成，可以用 a + bj，或者 complex(a,b) 表示， 复数的实部 a 和虚部 b 都是浮点型。*\n",
    "\n",
    "- String（字符串）\n",
    "    > Python中的字符串用单引号 ' 或双引号 \" 括起来，同时使用反斜杠 \\ 转义特殊字符。\n",
    "- List（列表）\n",
    "    > List（列表） 是 Python 中使用最频繁的数据类型。\n",
    "    >\n",
    "    >列表可以完成大多数集合类的数据结构实现。列表中元素的类型可以不相同，它支持数字，字符串甚至可以包含列表（所谓嵌套）。\n",
    "    >\n",
    "    >列表是写在方括号 [] 之间、用逗号分隔开的元素列表。\n",
    "- Tuple（元组）\n",
    "    > 元组（tuple）与列表类似，不同之处在于元组的元素不能修改。元组写在小括号 () 里，元素之间用逗号隔开。\n",
    "    > \n",
    "    > 元组中的元素类型也可以不相同：\n",
    "- Set（集合）\n",
    "    > 集合（set）是由一个或数个形态各异的大小整体组成的，构成集合的事物或对象称作元素或是成员。\n",
    "    >\n",
    "    >基本功能是进行成员关系测试和删除重复元素。\n",
    "    >\n",
    "    >可以使用大括号 { } 或者 set() 函数创建集合，注意：创建一个空集合必须用 set() 而不是 { }，因为 { } 是用来创建一个空字典。\n",
    "    >创建格式：\n",
    "    >```python\n",
    "    >parame = {value01,value02,...}\n",
    "    >#或者 \n",
    "    >set(value)\n",
    "    >```\n",
    "- Dictionary（字典）\n",
    "    >字典（dictionary）是Python中另一个非常有用的内置数据类型。\n",
    "    >\n",
    "    >列表是有序的对象集合，字典是无序的对象集合。两者之间的区别在于：字典当中的元素是通过键来存取的，而不是通过偏移存取。\n",
    "    >\n",
    "    >字典是一种映射类型，字典用 { } 标识，它是一个无序的 键(key) : 值(value) 的集合。\n",
    "    >\n",
    "    >键(key)必须使用不可变类型。\n",
    "    >\n",
    "    >在同一个字典中，键(key)必须是唯一的。\n",
    "    >\n",
    "\n",
    "Python3 的六个标准数据类型中：\n",
    "\n",
    "- 不可变数据（3 个）：Number（数字）、String（字符串）、Tuple（元组）；\n",
    "- 可变数据（3 个）：List（列表）、Dictionary（字典）、Set（集合）。\n",
    "\n",
    "### Python数据类型转换\n",
    "\n",
    "有时候，我们需要对数据内置的类型进行转换，数据类型的转换，你只需要将数据类型作为函数名即可。\n",
    "\n",
    "以下几个内置的函数可以执行数据类型之间的转换。这些函数返回一个新的对象，表示转换的值。\n",
    "\n",
    "函数 | 描述\n",
    ":- | :-\n",
    "int(x [,base])|将x转换为一个整数\n",
    "float(x)|将x转换到一个浮点数\n",
    "complex(real [,imag])|创建一个复数\n",
    "str(x)|将对象 x 转换为字符串\n",
    "repr(x)|将对象 x 转换为表达式字符串\n",
    "eval(str)|用来计算在字符串中的有效Python表达式,并返回一个对象\n",
    "tuple(s)|将序列 s 转换为一个元组\n",
    "list(s)|将序列 s 转换为一个列表\n",
    "set(s)|转换为可变集合\n",
    "dict(d)|创建一个字典。d 必须是一个 (key, value)元组序列。\n",
    "frozenset(s)|转换为不可变集合\n",
    "chr(x)|将一个整数转换为一个字符\n",
    "ord(x)|将一个字符转换为它的整数值\n",
    "hex(x)|将一个整数转换为一个十六进制字符串\n",
    "oct(x)|将一个整数转换为一个八进制字符串\n"
   ]
  },
  {
   "cell_type": "code",
   "execution_count": 10,
   "metadata": {},
   "outputs": [
    {
     "name": "stdout",
     "output_type": "stream",
     "text": [
      "<class 'int'> <class 'float'> <class 'bool'> <class 'complex'>\n"
     ]
    }
   ],
   "source": [
    "a, b, c, d = 20, 5.5, True, 4+3j\n",
    "print(type(a), type(b), type(c), type(d))"
   ]
  },
  {
   "attachments": {},
   "cell_type": "markdown",
   "metadata": {},
   "source": [
    "## 运算符\n",
    "\n",
    "### 算术运算符\n",
    "\n",
    "运算符 |  描述\n",
    "  --  |   --\n",
    "`+` | 加\n",
    "`-` | 减\n",
    "`*` | 乘\n",
    "`/` | 除\n",
    "`//`| 整除\n",
    "`%` | 取余\n",
    "`**` | 乘方\n"
   ]
  },
  {
   "cell_type": "code",
   "execution_count": null,
   "metadata": {},
   "outputs": [],
   "source": []
  },
  {
   "attachments": {},
   "cell_type": "markdown",
   "metadata": {},
   "source": [
    "### 关系运算符\n",
    "\n",
    "运算符 |  描述\n",
    "  --  |   --\n",
    "`==` | 等于\n",
    "`!=` | 不等于\n",
    "`>` | 大于\n",
    "`<` | 小于\n",
    "`>=`| 大于等于\n",
    "`<=` | 小于等于\n"
   ]
  },
  {
   "cell_type": "code",
   "execution_count": null,
   "metadata": {},
   "outputs": [],
   "source": []
  },
  {
   "attachments": {},
   "cell_type": "markdown",
   "metadata": {},
   "source": [
    "### 赋值运算符\n",
    "\n",
    "运算符 |  描述\n",
    "  --  |   --\n",
    "`=` | 简单的赋值运算\n",
    "`+=` | 加法运算符\n",
    "`-=` | 减\n",
    "`*=` | 乘\n",
    "`/=` | 除\n",
    "`//=`| 整除\n",
    "`%=` | 取余\n",
    "`**=` | 乘方"
   ]
  },
  {
   "cell_type": "code",
   "execution_count": null,
   "metadata": {},
   "outputs": [],
   "source": []
  },
  {
   "attachments": {},
   "cell_type": "markdown",
   "metadata": {},
   "source": [
    "### 逻辑运算符\n",
    "\n",
    "运算符 |  描述\n",
    "  --  |   --\n",
    "`not` | 非\n",
    "`and` | 与\n",
    "`or` | 或"
   ]
  },
  {
   "cell_type": "code",
   "execution_count": null,
   "metadata": {},
   "outputs": [],
   "source": []
  },
  {
   "attachments": {},
   "cell_type": "markdown",
   "metadata": {},
   "source": [
    "## Python3 条件控制\n",
    "\n",
    "Python 条件语句是通过一条或多条语句的执行结果（True 或者 False）来决定执行的代码块。\n",
    "\n",
    "可以通过下图来简单了解条件语句的执行过程:\n",
    "\n",
    "![](https://www.runoob.com/wp-content/uploads/2013/11/if-condition.jpg)\n",
    "\n",
    "\n",
    "代码执行过程：\n",
    "\n",
    "![](https://static.runoob.com/images/mix/python-if.webp)\n",
    "\n",
    "### if 语句\n",
    "Python中if语句的一般形式如下所示：\n",
    "\n",
    "```python\n",
    "if condition_1:\n",
    "    statement_block_1\n",
    "elif condition_2:\n",
    "    statement_block_2\n",
    "else:\n",
    "    statement_block_3\n",
    "```\n",
    "- 如果 \"condition_1\" 为 True 将执行 \"statement_block_1\" 块语句\n",
    "- 如果 \"condition_1\" 为False，将判断 \"condition_2\"\n",
    "- 如果\"condition_2\" 为 True 将执行 \"statement_block_2\" 块语句\n",
    "- 如果 \"condition_2\" 为False，将执行\"statement_block_3\"块语句\n",
    "\n",
    "\n",
    "**注意：**\n",
    "\n",
    "1. 每个条件后面要使用冒号 `:`，表示接下来是满足条件后要执行的语句块。\n",
    "2. 使用缩进来划分语句块，相同缩进数的语句在一起组成一个语句块。\n",
    "\n"
   ]
  },
  {
   "cell_type": "code",
   "execution_count": 11,
   "metadata": {},
   "outputs": [
    {
     "name": "stdout",
     "output_type": "stream",
     "text": [
      "1 - if 表达式条件为 true\n",
      "100\n",
      "Good bye!\n"
     ]
    }
   ],
   "source": [
    "#!/usr/bin/python3\n",
    " \n",
    "var1 = 100\n",
    "if var1:\n",
    "    print (\"1 - if 表达式条件为 true\")\n",
    "    print (var1)\n",
    " \n",
    "var2 = 0\n",
    "if var2:\n",
    "    print (\"2 - if 表达式条件为 true\")\n",
    "    print (var2)\n",
    "print (\"Good bye!\")"
   ]
  },
  {
   "cell_type": "code",
   "execution_count": 12,
   "metadata": {},
   "outputs": [
    {
     "name": "stdout",
     "output_type": "stream",
     "text": [
      "\n",
      "对应人类年龄:  72\n"
     ]
    },
    {
     "data": {
      "text/plain": [
       "'12'"
      ]
     },
     "execution_count": 12,
     "metadata": {},
     "output_type": "execute_result"
    }
   ],
   "source": [
    "#!/usr/bin/python3\n",
    " \n",
    "age = int(input(\"请输入你家狗狗的年龄: \"))\n",
    "print(\"\")\n",
    "if age <= 0:\n",
    "    print(\"你是在逗我吧!\")\n",
    "elif age == 1:\n",
    "    print(\"相当于 14 岁的人。\")\n",
    "elif age == 2:\n",
    "    print(\"相当于 22 岁的人。\")\n",
    "elif age > 2:\n",
    "    human = 22 + (age -2)*5\n",
    "    print(\"对应人类年龄: \", human)\n",
    " \n",
    "### 退出提示\n",
    "# input(\"点击 enter 键退出\")"
   ]
  },
  {
   "attachments": {},
   "cell_type": "markdown",
   "metadata": {},
   "source": [
    "## Python3 循环语句\n",
    "\n",
    "Python 中的循环语句有 for 和 while。\n",
    "\n",
    "Python 循环语句的控制结构图如下所示：\n",
    "\n",
    "![](https://www.runoob.com/wp-content/uploads/2015/12/loop.png)\n",
    "\n",
    "\n",
    "\n",
    "### while 循环\n",
    "Python 中 while 语句的一般形式：\n",
    "```python\n",
    "while 判断条件(condition)：\n",
    "    执行语句(statements)……\n",
    "```\n",
    "执行流程图如下：\n",
    "\n",
    "![](https://www.runoob.com/wp-content/uploads/2013/11/886A6E10-58F1-4A9B-8640-02DBEFF0EF9A.jpg)\n",
    "\n",
    "执行 Gif 演示：\n",
    "\n",
    "![](https://www.runoob.com/wp-content/uploads/2014/05/006faQNTgw1f5wnm06h3ug30ci08cake.gif)\n",
    "\n",
    "同样需要注意冒号和缩进。另外，在 Python 中没有 do..while 循环。\n",
    "\n",
    "以下实例使用了 while 来计算 1 到 100 的总和："
   ]
  },
  {
   "cell_type": "code",
   "execution_count": 13,
   "metadata": {},
   "outputs": [
    {
     "name": "stdout",
     "output_type": "stream",
     "text": [
      "1 到 100 之和为: 5050\n"
     ]
    }
   ],
   "source": [
    "n = 100\n",
    " \n",
    "sum = 0\n",
    "counter = 1\n",
    "while counter <= n:\n",
    "    sum = sum + counter\n",
    "    counter += 1\n",
    " \n",
    "print(\"1 到 %d 之和为: %d\" % (n,sum))"
   ]
  },
  {
   "attachments": {},
   "cell_type": "markdown",
   "metadata": {},
   "source": [
    "#### 无限循环\n",
    "我们可以通过设置条件表达式永远不为 false 来实现无限循环，实例如下："
   ]
  },
  {
   "cell_type": "code",
   "execution_count": 14,
   "metadata": {},
   "outputs": [
    {
     "name": "stdout",
     "output_type": "stream",
     "text": [
      "你输入的数字是:  1\n",
      "你输入的数字是:  12\n",
      "你输入的数字是:  121\n"
     ]
    },
    {
     "ename": "ValueError",
     "evalue": "invalid literal for int() with base 10: ''",
     "output_type": "error",
     "traceback": [
      "\u001b[1;31m---------------------------------------------------------------------------\u001b[0m",
      "\u001b[1;31mValueError\u001b[0m                                Traceback (most recent call last)",
      "Cell \u001b[1;32mIn[14], line 5\u001b[0m\n\u001b[0;32m      3\u001b[0m var \u001b[39m=\u001b[39m \u001b[39m1\u001b[39m\n\u001b[0;32m      4\u001b[0m \u001b[39mwhile\u001b[39;00m var \u001b[39m==\u001b[39m \u001b[39m1\u001b[39m :  \u001b[39m# 表达式永远为 true\u001b[39;00m\n\u001b[1;32m----> 5\u001b[0m    num \u001b[39m=\u001b[39m \u001b[39mint\u001b[39;49m(\u001b[39minput\u001b[39;49m(\u001b[39m\"\u001b[39;49m\u001b[39m输入一个数字  :\u001b[39;49m\u001b[39m\"\u001b[39;49m))\n\u001b[0;32m      6\u001b[0m    \u001b[39mprint\u001b[39m (\u001b[39m\"\u001b[39m\u001b[39m你输入的数字是: \u001b[39m\u001b[39m\"\u001b[39m, num)\n\u001b[0;32m      8\u001b[0m \u001b[39mprint\u001b[39m (\u001b[39m\"\u001b[39m\u001b[39mGood bye!\u001b[39m\u001b[39m\"\u001b[39m)\n",
      "\u001b[1;31mValueError\u001b[0m: invalid literal for int() with base 10: ''"
     ]
    }
   ],
   "source": [
    "#!/usr/bin/python3\n",
    " \n",
    "var = 1\n",
    "while var == 1 :  # 表达式永远为 true\n",
    "   num = int(input(\"输入一个数字  :\"))\n",
    "   print (\"你输入的数字是: \", num)\n",
    " \n",
    "print (\"Good bye!\")"
   ]
  },
  {
   "attachments": {},
   "cell_type": "markdown",
   "metadata": {},
   "source": [
    "### for 语句\n",
    "Python for 循环可以遍历任何可迭代对象，如一个列表或者一个字符串。\n",
    "\n",
    "for循环的一般格式如下：\n",
    "```python\n",
    "for <variable> in <sequence>:\n",
    "    <statements>\n",
    "else:\n",
    "    <statements>\n",
    "```\n",
    "\n",
    "流程图：\n",
    "\n",
    "![](https://www.runoob.com/wp-content/uploads/2013/11/A71EC47E-BC53-4923-8F88-B027937EE2FF.jpg)\n",
    "\n",
    "Python for 循环实例："
   ]
  },
  {
   "cell_type": "code",
   "execution_count": 15,
   "metadata": {},
   "outputs": [
    {
     "name": "stdout",
     "output_type": "stream",
     "text": [
      "Baidu\n",
      "Google\n",
      "Runoob\n",
      "Taobao\n"
     ]
    }
   ],
   "source": [
    "#!/usr/bin/python3\n",
    " \n",
    "sites = [\"Baidu\", \"Google\",\"Runoob\",\"Taobao\"]\n",
    "for site in sites:\n",
    "    print(site)"
   ]
  },
  {
   "cell_type": "code",
   "execution_count": 16,
   "metadata": {},
   "outputs": [
    {
     "name": "stdout",
     "output_type": "stream",
     "text": [
      "r\n",
      "u\n",
      "n\n",
      "o\n",
      "o\n",
      "b\n"
     ]
    }
   ],
   "source": [
    "# 也可用于打印字符串中的每个字符：\n",
    "\n",
    " \n",
    "word = 'runoob'\n",
    " \n",
    "for letter in word:\n",
    "    print(letter)"
   ]
  },
  {
   "cell_type": "code",
   "execution_count": 17,
   "metadata": {},
   "outputs": [
    {
     "name": "stdout",
     "output_type": "stream",
     "text": [
      "1\n",
      "2\n",
      "3\n",
      "4\n",
      "5\n"
     ]
    }
   ],
   "source": [
    "#  1 到 5 的所有数字：\n",
    "for number in range(1, 6):\n",
    "    print(number)"
   ]
  },
  {
   "attachments": {},
   "cell_type": "markdown",
   "metadata": {},
   "source": [
    "### break 和 continue\n",
    "\n",
    "break 执行流程图：\n",
    "\n",
    "![](https://www.runoob.com/wp-content/uploads/2014/09/E5A591EF-6515-4BCB-AEAA-A97ABEFC5D7D.jpg)\n",
    "\n",
    "continue 执行流程图：\n",
    "\n",
    "![](https://www.runoob.com/wp-content/uploads/2014/09/8962A4F1-B78C-4877-B328-903366EA1470.jpg)\n",
    "\n"
   ]
  },
  {
   "attachments": {},
   "cell_type": "markdown",
   "metadata": {},
   "source": [
    "## 函数\n",
    "\n",
    "函数是组织好的，可重复使用的，用来实现单一，或相关联功能的代码段。\n",
    "\n",
    "函数能提高应用的模块性，和代码的重复利用率。你已经知道Python提供了许多内建函数，比如print()。但你也可以自己创建函数，这被叫做用户自定义函数。\n",
    "\n",
    "### 定义一个函数\n",
    "你可以定义一个由自己想要功能的函数，以下是简单的规则：\n",
    "\n",
    "- 函数代码块以 def 关键词开头，后接函数标识符名称和圆括号 ()。\n",
    "- 任何传入参数和自变量必须放在圆括号中间，圆括号之间可以用于定义参数。\n",
    "- 函数的第一行语句可以选择性地使用文档字符串—用于存放函数说明。\n",
    "- 函数内容以冒号 : 起始，并且缩进。\n",
    "- return [表达式] 结束函数，选择性地返回一个值给调用方，不带表达式的 return 相当于返回 None。\n",
    "\n",
    "![](https://www.runoob.com/wp-content/uploads/2014/05/py-tup-10-26-1.png)\n",
    "\n",
    "\n",
    "Python 定义函数使用 def 关键字，一般格式如下：\n",
    "```python\n",
    "def 函数名（参数列表）:\n",
    "    函数体\n",
    "```\n",
    "\n",
    "默认情况下，参数值和参数名称是按函数声明中定义的顺序匹配起来的。\n",
    "\n",
    "实例\n",
    "让我们使用函数来输出\"Hello World！\"："
   ]
  },
  {
   "cell_type": "code",
   "execution_count": 18,
   "metadata": {},
   "outputs": [
    {
     "name": "stdout",
     "output_type": "stream",
     "text": [
      "Hello World!\n"
     ]
    }
   ],
   "source": [
    "#!/usr/bin/python3\n",
    "\n",
    "def hello() :\n",
    "    print(\"Hello World!\")\n",
    "\n",
    "hello()"
   ]
  },
  {
   "cell_type": "code",
   "execution_count": 19,
   "metadata": {},
   "outputs": [
    {
     "name": "stdout",
     "output_type": "stream",
     "text": [
      "5\n"
     ]
    }
   ],
   "source": [
    "# 更复杂点的应用，函数中带上参数变量:\n",
    "# 比较两个数，并返回较大的数:\n",
    "\n",
    "#!/usr/bin/python3\n",
    " \n",
    "def max(a, b):\n",
    "    if a > b:\n",
    "        return a\n",
    "    else:\n",
    "        return b\n",
    " \n",
    "a = 4\n",
    "b = 5\n",
    "print(max(a, b))"
   ]
  },
  {
   "cell_type": "code",
   "execution_count": 20,
   "metadata": {},
   "outputs": [
    {
     "name": "stdout",
     "output_type": "stream",
     "text": [
      "Welcome Runoob\n",
      "width = 4  height = 5  area = 20\n"
     ]
    }
   ],
   "source": [
    "# 计算面积函数\n",
    "def area(width, height):\n",
    "    return width * height\n",
    " \n",
    "def print_welcome(name):\n",
    "    print(\"Welcome\", name)\n",
    " \n",
    "print_welcome(\"Runoob\")\n",
    "w = 4\n",
    "h = 5\n",
    "print(\"width =\", w, \" height =\", h, \" area =\", area(w, h))"
   ]
  },
  {
   "attachments": {},
   "cell_type": "markdown",
   "metadata": {},
   "source": [
    "### 函数调用\n",
    "\n",
    "定义一个函数：给了函数一个名称，指定了函数里包含的参数，和代码块结构。\n",
    "\n",
    "这个函数的基本结构完成以后，你可以通过另一个函数调用执行，也可以直接从 Python 命令提示符执行。\n",
    "\n",
    "如下实例调用了 printme() 函数："
   ]
  },
  {
   "cell_type": "code",
   "execution_count": 21,
   "metadata": {},
   "outputs": [
    {
     "name": "stdout",
     "output_type": "stream",
     "text": [
      "我要调用用户自定义函数!\n",
      "再次调用同一函数\n"
     ]
    }
   ],
   "source": [
    "def printme( str ):\n",
    "   # 打印任何传入的字符串\n",
    "   print (str)\n",
    "   return\n",
    " \n",
    "# 调用函数\n",
    "printme(\"我要调用用户自定义函数!\")\n",
    "printme(\"再次调用同一函数\")"
   ]
  },
  {
   "attachments": {},
   "cell_type": "markdown",
   "metadata": {},
   "source": [
    "### 参数传递\n",
    "\n",
    "在 python 中，类型属于对象，对象有不同类型的区分，变量是没有\n",
    "\n",
    "python 函数的参数传递：\n",
    "\n",
    "### 参数\n",
    "以下是调用函数时可使用的正式参数类型：\n",
    "\n",
    "- 必需参数\n",
    "- 关键字参数\n",
    "- 默认参数\n",
    "- 不定长参数\n",
    "\n",
    "#### 必需参数\n",
    "必需参数须以正确的顺序传入函数。调用时的数量必须和声明时的一样。\n",
    "\n",
    "调用 printme() 函数，你必须传入一个参数，不然会出现语法错误："
   ]
  },
  {
   "cell_type": "code",
   "execution_count": 22,
   "metadata": {},
   "outputs": [
    {
     "ename": "TypeError",
     "evalue": "printme() missing 1 required positional argument: 'str'",
     "output_type": "error",
     "traceback": [
      "\u001b[1;31m---------------------------------------------------------------------------\u001b[0m",
      "\u001b[1;31mTypeError\u001b[0m                                 Traceback (most recent call last)",
      "Cell \u001b[1;32mIn[22], line 8\u001b[0m\n\u001b[0;32m      5\u001b[0m    \u001b[39mreturn\u001b[39;00m\n\u001b[0;32m      7\u001b[0m \u001b[39m# 调用 printme 函数，不加参数会报错\u001b[39;00m\n\u001b[1;32m----> 8\u001b[0m printme()\n",
      "\u001b[1;31mTypeError\u001b[0m: printme() missing 1 required positional argument: 'str'"
     ]
    }
   ],
   "source": [
    " \n",
    "#可写函数说明\n",
    "def printme( str ):\n",
    "   \"打印任何传入的字符串\"\n",
    "   print (str)\n",
    "   return\n",
    " \n",
    "# 调用 printme 函数，不加参数会报错\n",
    "printme()"
   ]
  },
  {
   "attachments": {},
   "cell_type": "markdown",
   "metadata": {},
   "source": [
    "#### 关键字参数\n",
    "关键字参数和函数调用关系紧密，函数调用使用关键字参数来确定传入的参数值。\n",
    "\n",
    "使用关键字参数允许函数调用时参数的顺序与声明时不一致，因为 Python 解释器能够用参数名匹配参数值。\n",
    "\n",
    "以下实例在函数 printme() 调用时使用参数名："
   ]
  },
  {
   "cell_type": "code",
   "execution_count": 23,
   "metadata": {},
   "outputs": [
    {
     "name": "stdout",
     "output_type": "stream",
     "text": [
      "菜鸟教程\n"
     ]
    }
   ],
   "source": [
    "\n",
    "#可写函数说明\n",
    "def printme( str ):\n",
    "   \"打印任何传入的字符串\"\n",
    "   print (str)\n",
    "   return\n",
    " \n",
    "#调用printme函数\n",
    "printme( str = \"火星实验室\")"
   ]
  },
  {
   "cell_type": "code",
   "execution_count": 24,
   "metadata": {},
   "outputs": [
    {
     "name": "stdout",
     "output_type": "stream",
     "text": [
      "名字:  runoob\n",
      "年龄:  50\n"
     ]
    }
   ],
   "source": [
    "#可写函数说明\n",
    "def printinfo( name, age ):\n",
    "   \"打印任何传入的字符串\"\n",
    "   print (\"名字: \", name)\n",
    "   print (\"年龄: \", age)\n",
    "   return\n",
    " \n",
    "#调用printinfo函数\n",
    "printinfo( age=50, name=\"runoob\" )"
   ]
  },
  {
   "attachments": {},
   "cell_type": "markdown",
   "metadata": {},
   "source": [
    "#### 默认参数\n",
    "调用函数时，如果没有传递参数，则会使用默认参数。以下实例中如果没有传入 age 参数，则使用默认值：\n"
   ]
  },
  {
   "cell_type": "code",
   "execution_count": 25,
   "metadata": {},
   "outputs": [
    {
     "name": "stdout",
     "output_type": "stream",
     "text": [
      "名字:  runoob\n",
      "年龄:  50\n",
      "------------------------\n",
      "名字:  runoob\n",
      "年龄:  35\n"
     ]
    }
   ],
   "source": [
    "\n",
    "#可写函数说明\n",
    "def printinfo( name, age = 35 ):\n",
    "   \"打印任何传入的字符串\"\n",
    "   print (\"名字: \", name)\n",
    "   print (\"年龄: \", age)\n",
    "   return\n",
    " \n",
    "#调用printinfo函数\n",
    "printinfo( age=50, name=\"runoob\" )\n",
    "print (\"------------------------\")\n",
    "printinfo( name=\"runoob\" )"
   ]
  },
  {
   "attachments": {},
   "cell_type": "markdown",
   "metadata": {},
   "source": [
    "#### 不定长参数\n",
    "你可能需要一个函数能处理比当初声明时更多的参数。这些参数叫做不定长参数，和上述 2 种参数不同，声明时不会命名。基本语法如下：\n",
    "```py\n",
    "def functionname([formal_args,] *var_args_tuple ):\n",
    "   \"函数_文档字符串\"\n",
    "   function_suite\n",
    "   return [expression]\n",
    "```\n",
    "加了星号 * 的参数会以元组(tuple)的形式导入，存放所有未命名的变量参数。\n"
   ]
  },
  {
   "cell_type": "code",
   "execution_count": 26,
   "metadata": {},
   "outputs": [
    {
     "name": "stdout",
     "output_type": "stream",
     "text": [
      "输出: \n",
      "70\n",
      "(60, 50)\n"
     ]
    }
   ],
   "source": [
    "# 可写函数说明\n",
    "def printinfo( arg1, *vartuple ):\n",
    "   \"打印任何传入的参数\"\n",
    "   print (\"输出: \")\n",
    "   print (arg1)\n",
    "   print (vartuple)\n",
    " \n",
    "# 调用printinfo 函数\n",
    "printinfo( 70, 60, 50 )"
   ]
  },
  {
   "cell_type": "code",
   "execution_count": null,
   "metadata": {},
   "outputs": [],
   "source": [
    "#如果在函数调用时没有指定参数，它就是一个空元组。我们也可以不向函数传递未命名的变量。如下实例：\n",
    " \n",
    "# 可写函数说明\n",
    "def printinfo( arg1, *vartuple ):\n",
    "   \"打印任何传入的参数\"\n",
    "   print (\"输出: \")\n",
    "   print (arg1)\n",
    "   for var in vartuple:\n",
    "      print (var)\n",
    "   return\n",
    " \n",
    "# 调用printinfo 函数\n",
    "printinfo( 10 )\n",
    "printinfo( 70, 60, 50 )"
   ]
  },
  {
   "attachments": {},
   "cell_type": "markdown",
   "metadata": {},
   "source": [
    "还有一种就是参数带两个星号 **基本语法如下：\n",
    "```py\n",
    "def functionname([formal_args,] **var_args_dict ):\n",
    "   \"函数_文档字符串\"\n",
    "   function_suite\n",
    "   return [expression]\n",
    "   ```\n",
    "加了两个星号 ** 的参数会以字典的形式导入。"
   ]
  },
  {
   "cell_type": "code",
   "execution_count": 27,
   "metadata": {},
   "outputs": [
    {
     "name": "stdout",
     "output_type": "stream",
     "text": [
      "输出: \n",
      "1\n",
      "{'a': 2, 'b': 3}\n"
     ]
    }
   ],
   "source": [
    "# 可写函数说明\n",
    "def printinfo( arg1, **vardict ):\n",
    "   \"打印任何传入的参数\"\n",
    "   print (\"输出: \")\n",
    "   print (arg1)\n",
    "   print (vardict)\n",
    " \n",
    "# 调用printinfo 函数\n",
    "printinfo(1, a=2,b=3)"
   ]
  },
  {
   "attachments": {},
   "cell_type": "markdown",
   "metadata": {},
   "source": [
    "### 匿名函数\n",
    "Python 使用 lambda 来创建匿名函数。\n",
    "\n",
    "所谓匿名，意即不再使用 def 语句这样标准的形式定义一个函数。\n",
    "\n",
    "- lambda 只是一个表达式，函数体比 def 简单很多。\n",
    "- lambda 的主体是一个表达式，而不是一个代码块。仅仅能在 lambda 表达式中封装有限的逻辑进去。\n",
    "- lambda 函数拥有自己的命名空间，且不能访问自己参数列表之外或全局命名空间里的参数。\n",
    "- 虽然 lambda 函数看起来只能写一行，却不等同于 C 或 C++ 的内联函数，后者的目的是调用小函数时不占用栈内存从而增加运行效率。\n",
    "#### 语法\n",
    "lambda 函数的语法只包含一个语句，如下：\n",
    "```py\n",
    "lambda [arg1 [,arg2,.....argn]]:expression\n",
    "```\n",
    "设置参数 a 加上 10:"
   ]
  },
  {
   "cell_type": "code",
   "execution_count": 28,
   "metadata": {},
   "outputs": [
    {
     "name": "stdout",
     "output_type": "stream",
     "text": [
      "15\n"
     ]
    }
   ],
   "source": [
    "x = lambda a : a + 10\n",
    "print(x(5))"
   ]
  },
  {
   "attachments": {},
   "cell_type": "markdown",
   "metadata": {},
   "source": [
    "### return 语句\n",
    "\n",
    "`return` [表达式] 语句用于退出函数，选择性地向调用方返回一个表达式。不带参数值的 `return` 语句返回 `None` 。之前的例子都没有示范如何返回数值，以下实例演示了 `return` 语句的用法：\n"
   ]
  },
  {
   "cell_type": "code",
   "execution_count": 29,
   "metadata": {},
   "outputs": [
    {
     "name": "stdout",
     "output_type": "stream",
     "text": [
      "函数内 :  30\n",
      "函数外 :  30\n"
     ]
    }
   ],
   "source": [
    " \n",
    "# 可写函数说明\n",
    "def sum( arg1, arg2 ):\n",
    "   # 返回2个参数的和.\"\n",
    "   total = arg1 + arg2\n",
    "   print (\"函数内 : \", total)\n",
    "   return total\n",
    " \n",
    "# 调用sum函数\n",
    "total = sum( 10, 20 )\n",
    "print (\"函数外 : \", total)"
   ]
  },
  {
   "attachments": {},
   "cell_type": "markdown",
   "metadata": {},
   "source": [
    "## 文件操作\n",
    "\n",
    "### open()\n",
    "\n",
    "open() 函数常用形式是接收两个参数：文件名(file)和模式(mode)。\n",
    "```py\n",
    "open(file, mode='r')\n",
    "```\n",
    "    \n",
    "完整的语法格式为：\n",
    "```py\n",
    "open(file, mode='r', buffering=-1, encoding=None, errors=None, newline=None, closefd=True, opener=None)\n",
    "```\n",
    "参数说明:\n",
    "\n",
    "- file: 必需，文件路径（相对或者绝对路径）。\n",
    "- mode: 可选，文件打开模式\n",
    "- buffering: 设置缓冲\n",
    "- encoding: 一般使用utf8\n",
    "- errors: 报错级别\n",
    "- newline: 区分换行符\n",
    "- closefd: 传入的file参数类型\n",
    "- opener: 设置自定义开启器，开启器的返回值必须是一个打开的文件描述符。\n",
    "\n",
    "| 模式 |\t描述 |\n",
    "| :-: | :-: |\n",
    "| r | 以只读方式打开文件。文件的指针将会放在文件的开头。这是默认模式。|\n",
    "| w |打开一个文件只用于写入。如果该文件已存在则打开文件，并从开头开始编辑，即原有内容会被删除。如果该文件不存在，创建新文件。 |\n"
   ]
  }
 ],
 "metadata": {
  "kernelspec": {
   "display_name": "base",
   "language": "python",
   "name": "python3"
  },
  "language_info": {
   "codemirror_mode": {
    "name": "ipython",
    "version": 3
   },
   "file_extension": ".py",
   "mimetype": "text/x-python",
   "name": "python",
   "nbconvert_exporter": "python",
   "pygments_lexer": "ipython3",
   "version": "3.10.10"
  },
  "orig_nbformat": 4
 },
 "nbformat": 4,
 "nbformat_minor": 2
}
